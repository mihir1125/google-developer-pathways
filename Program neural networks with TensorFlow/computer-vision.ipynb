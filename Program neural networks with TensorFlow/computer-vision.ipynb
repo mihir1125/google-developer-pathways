{
 "cells": [
  {
   "cell_type": "code",
   "execution_count": 1,
   "id": "095e2c08-9a33-4324-8483-68fd276ce522",
   "metadata": {},
   "outputs": [],
   "source": [
    "import tensorflow as tf\n",
    "import matplotlib.pyplot as plt"
   ]
  },
  {
   "cell_type": "code",
   "execution_count": 2,
   "id": "679a218c-59ac-4119-9d09-d64a9df88c53",
   "metadata": {},
   "outputs": [],
   "source": [
    "mnist = tf.keras.datasets.fashion_mnist"
   ]
  },
  {
   "cell_type": "code",
   "execution_count": 24,
   "id": "74fb87b1-6e66-4165-b6ea-122e25636a77",
   "metadata": {},
   "outputs": [],
   "source": [
    "(training_images, training_labels), (testing_images, testing_labels) = mnist.load_data()"
   ]
  },
  {
   "cell_type": "code",
   "execution_count": 4,
   "id": "75010052-6861-401b-8fc1-290fa3f0b703",
   "metadata": {
    "scrolled": true
   },
   "outputs": [
    {
     "name": "stdout",
     "output_type": "stream",
     "text": [
      "9\n",
      "[[  0   0   0   0   0   0   0   0   0   0   0   0   0   0   0   0   0   0\n",
      "    0   0   0   0   0   0   0   0   0   0]\n",
      " [  0   0   0   0   0   0   0   0   0   0   0   0   0   0   0   0   0   0\n",
      "    0   0   0   0   0   0   0   0   0   0]\n",
      " [  0   0   0   0   0   0   0   0   0   0   0   0   0   0   0   0   0   0\n",
      "    0   0   0   0   0   0   0   0   0   0]\n",
      " [  0   0   0   0   0   0   0   0   0   0   0   0   0   0   0   0   0   0\n",
      "    0   0   0   0   0   0   0   0   0   0]\n",
      " [  0   0   0   0   0   0   0   0   0   0   0   0   0   0   0   0   0   0\n",
      "    0   0   0   0   0   0   0   0   0   0]\n",
      " [  0   0   0   0   0   0   0   0   0   0   0   0   0   0   0   0  82 187\n",
      "   26   0   0   0   0   0   0   0   0   0]\n",
      " [  0   0   0   0   0   0   0   0   0   1   0   0   1   0   0 179 240 237\n",
      "  255 240 139  83  64  43  60  54   0   1]\n",
      " [  0   0   0   0   0   0   0   0   0   1   0   0   1   0  58 239 222 234\n",
      "  238 246 252 254 255 248 255 187   0   0]\n",
      " [  0   0   0   0   0   0   0   0   0   0   2   3   0   0 194 239 226 237\n",
      "  235 232 230 234 234 233 249 171   0   0]\n",
      " [  0   0   0   0   0   0   0   0   0   1   1   0   0  10 255 226 242 239\n",
      "  238 239 240 239 242 238 248 192   0   0]\n",
      " [  0   0   0   0   0   0   0   0   0   0   0   0   0 172 245 229 240 241\n",
      "  240 241 243 243 241 227 250 209   0   0]\n",
      " [  0   0   0   0   0   0   0   0   0   6   5   0  62 255 230 236 239 241\n",
      "  242 241 242 242 238 238 242 253   0   0]\n",
      " [  0   0   0   0   0   0   0   0   0   3   0   0 255 235 228 244 241 241\n",
      "  244 243 243 244 243 239 235 255  22   0]\n",
      " [  0   0   0   0   0   0   0   0   0   0   0 246 228 220 245 243 237 241\n",
      "  242 242 242 243 239 237 235 253 106   0]\n",
      " [  0   0   3   4   4   2   1   0   0  18 243 228 231 241 243 237 238 242\n",
      "  241 240 240 240 235 237 236 246 234   0]\n",
      " [  1   0   0   0   0   0   0   0  22 255 238 227 238 239 237 241 241 237\n",
      "  236 238 239 239 239 239 239 237 255   0]\n",
      " [  0   0   0   0   0  25  83 168 255 225 225 235 228 230 227 225 227 231\n",
      "  232 237 240 236 238 239 239 235 251  62]\n",
      " [  0 165 225 220 224 255 255 233 229 223 227 228 231 232 235 237 233 230\n",
      "  228 230 233 232 235 233 234 235 255  58]\n",
      " [ 52 251 221 226 227 225 225 225 226 226 225 227 231 229 232 239 245 250\n",
      "  251 252 254 254 252 254 252 235 255   0]\n",
      " [ 31 208 230 233 233 237 236 236 241 235 241 247 251 254 242 236 233 227\n",
      "  219 202 193 189 186 181 171 165 190  42]\n",
      " [ 77 199 172 188 199 202 218 219 220 229 234 222 213 209 207 210 203 184\n",
      "  152 171 165 162 162 167 168 157 192  78]\n",
      " [  0  45 101 140 159 174 182 186 185 188 195 197 188 175 133  70  19   0\n",
      "    0 209 231 218 222 224 227 217 229  93]\n",
      " [  0   0   0   0   0   0   2  24  37  45  32  18  11   0   0   0   0   0\n",
      "    0  72  51  53  37  34  29  31   5   0]\n",
      " [  0   0   0   0   0   0   0   0   0   0   0   0   0   0   0   0   0   0\n",
      "    0   0   0   0   0   0   0   0   0   0]\n",
      " [  0   0   0   0   0   0   0   0   0   0   0   0   0   0   0   0   0   0\n",
      "    0   0   0   0   0   0   0   0   0   0]\n",
      " [  0   0   0   0   0   0   0   0   0   0   0   0   0   0   0   0   0   0\n",
      "    0   0   0   0   0   0   0   0   0   0]\n",
      " [  0   0   0   0   0   0   0   0   0   0   0   0   0   0   0   0   0   0\n",
      "    0   0   0   0   0   0   0   0   0   0]\n",
      " [  0   0   0   0   0   0   0   0   0   0   0   0   0   0   0   0   0   0\n",
      "    0   0   0   0   0   0   0   0   0   0]]\n"
     ]
    },
    {
     "data": {
      "image/png": "[encoded data removed]",
      "text/plain": [
       "<Figure size 640x480 with 1 Axes>"
      ]
     },
     "metadata": {},
     "output_type": "display_data"
    }
   ],
   "source": [
    "plt.imshow(training_images[42])\n",
    "print(training_labels[42])\n",
    "print(training_images[42])"
   ]
  },
  {
   "cell_type": "code",
   "execution_count": 5,
   "id": "c4594877-4826-490b-bc30-9eaa4e649d34",
   "metadata": {},
   "outputs": [],
   "source": [
    "# Normalizing images\n",
    "training_images = training_images / 255.0\n",
    "testing_images = testing_images / 255.0"
   ]
  },
  {
   "cell_type": "code",
   "execution_count": 6,
   "id": "0da97664-cb71-46ed-8cad-597b9407b5d6",
   "metadata": {},
   "outputs": [],
   "source": [
    "model = tf.keras.models.Sequential([\n",
    "    tf.keras.layers.Flatten(),\n",
    "    tf.keras.layers.Dense(128, activation=tf.nn.relu),\n",
    "    tf.keras.layers.Dense(10, activation=tf.nn.softmax),\n",
    "])"
   ]
  },
  {
   "cell_type": "code",
   "execution_count": 7,
   "id": "a845d8da-6569-4b97-8a06-18cbd44fc282",
   "metadata": {},
   "outputs": [
    {
     "name": "stdout",
     "output_type": "stream",
     "text": [
      "Epoch 1/5\n",
      "1875/1875 [==============================] - 11s 5ms/step - loss: 0.4944 - accuracy: 0.8262\n",
      "Epoch 2/5\n",
      "1875/1875 [==============================] - 9s 5ms/step - loss: 0.3741 - accuracy: 0.8651\n",
      "Epoch 3/5\n",
      "1875/1875 [==============================] - 9s 5ms/step - loss: 0.3346 - accuracy: 0.8785\n",
      "Epoch 4/5\n",
      "1875/1875 [==============================] - 10s 5ms/step - loss: 0.3107 - accuracy: 0.8858\n",
      "Epoch 5/5\n",
      "1875/1875 [==============================] - 10s 5ms/step - loss: 0.2931 - accuracy: 0.8917\n"
     ]
    },
    {
     "data": {
      "text/plain": [
       "<keras.callbacks.History at 0x22dde32e770>"
      ]
     },
     "execution_count": 7,
     "metadata": {},
     "output_type": "execute_result"
    }
   ],
   "source": [
    "model.compile(\n",
    "    optimizer = tf.keras.optimizers.Adam(),\n",
    "    loss = 'sparse_categorical_crossentropy',\n",
    "    metrics = ['accuracy'])\n",
    "model.fit(training_images, training_labels, epochs=5)"
   ]
  },
  {
   "cell_type": "code",
   "execution_count": 8,
   "id": "d448f262-172e-45de-aa75-3085feeb3313",
   "metadata": {},
   "outputs": [
    {
     "name": "stdout",
     "output_type": "stream",
     "text": [
      "313/313 [==============================] - 2s 4ms/step - loss: 0.3766 - accuracy: 0.8691\n"
     ]
    },
    {
     "data": {
      "text/plain": [
       "[0.37664544582366943, 0.8690999746322632]"
      ]
     },
     "execution_count": 8,
     "metadata": {},
     "output_type": "execute_result"
    }
   ],
   "source": [
    "model.evaluate(testing_images, testing_labels)"
   ]
  },
  {
   "cell_type": "code",
   "execution_count": 9,
   "id": "f3b56029-e14e-4020-8a3b-70f13ee39552",
   "metadata": {},
   "outputs": [
    {
     "name": "stdout",
     "output_type": "stream",
     "text": [
      "313/313 [==============================] - 1s 3ms/step\n",
      "Prediction: -\n",
      "[9.09377150e-07 5.64914124e-08 1.31892682e-06 6.60805881e-07\n",
      " 7.05004868e-06 6.24660496e-03 1.77226445e-06 1.13901645e-01\n",
      " 4.44970792e-05 8.79795492e-01]\n",
      "Actual: -\n",
      "9\n"
     ]
    }
   ],
   "source": [
    "classifications = model.predict(testing_images)\n",
    "print(f\"Prediction: -\\n{classifications[0]}\")\n",
    "print(f\"Actual: -\\n{testing_labels[0]}\")"
   ]
  },
  {
   "cell_type": "code",
   "execution_count": 10,
   "id": "5aa8cf33-cdf1-4a9c-b3ac-b9396bcb883a",
   "metadata": {},
   "outputs": [],
   "source": [
    "class MyCallback(tf.keras.callbacks.Callback):\n",
    "    def __init__(self, accuracy_threshold):\n",
    "        self.threshold = accuracy_threshold\n",
    "\n",
    "    def on_epoch_end(self, epoch, logs={}):\n",
    "        if logs.get('accuracy') > self.threshold:\n",
    "            print(f\"\\nReached {self.threshold * 100}% accuracy so cancelling training\")\n",
    "            self.model.stop_training = True\n",
    "\n",
    "callback = MyCallback(accuracy_threshold = 0.90)"
   ]
  },
  {
   "cell_type": "code",
   "execution_count": 11,
   "id": "a9f58b67-e5e1-4601-b31d-81dcbd077923",
   "metadata": {},
   "outputs": [
    {
     "name": "stdout",
     "output_type": "stream",
     "text": [
      "Epoch 1/10\n",
      "1875/1875 [==============================] - 11s 5ms/step - loss: 0.5029 - accuracy: 0.8237\n",
      "Epoch 2/10\n",
      "1875/1875 [==============================] - 10s 5ms/step - loss: 0.3777 - accuracy: 0.8645\n",
      "Epoch 3/10\n",
      "1875/1875 [==============================] - 10s 5ms/step - loss: 0.3409 - accuracy: 0.8763\n",
      "Epoch 4/10\n",
      "1875/1875 [==============================] - 10s 6ms/step - loss: 0.3160 - accuracy: 0.8845\n",
      "Epoch 5/10\n",
      "1875/1875 [==============================] - 6s 3ms/step - loss: 0.2963 - accuracy: 0.8911\n",
      "Epoch 6/10\n",
      "1875/1875 [==============================] - 5s 3ms/step - loss: 0.2826 - accuracy: 0.8952\n",
      "Epoch 7/10\n",
      "1875/1875 [==============================] - 5s 3ms/step - loss: 0.2693 - accuracy: 0.8995\n",
      "Epoch 8/10\n",
      "1866/1875 [============================>.] - ETA: 0s - loss: 0.2584 - accuracy: 0.9051\n",
      "Reached 90.0% accuracy so cancelling training\n",
      "1875/1875 [==============================] - 5s 2ms/step - loss: 0.2585 - accuracy: 0.9051\n"
     ]
    },
    {
     "data": {
      "text/plain": [
       "<keras.callbacks.History at 0x22dd8e411e0>"
      ]
     },
     "execution_count": 11,
     "metadata": {},
     "output_type": "execute_result"
    }
   ],
   "source": [
    "# Using callbacks\n",
    "\n",
    "model = tf.keras.models.Sequential([\n",
    "    tf.keras.layers.Flatten(),\n",
    "    tf.keras.layers.Dense(128, activation=tf.nn.relu),\n",
    "    tf.keras.layers.Dense(10, activation=tf.nn.softmax)\n",
    "])\n",
    "\n",
    "model.compile(\n",
    "    optimizer = tf.keras.optimizers.Adam(),\n",
    "    loss = 'sparse_categorical_crossentropy',\n",
    "    metrics = ['accuracy'],\n",
    ")\n",
    "\n",
    "model.fit(training_images, training_labels, epochs=10, callbacks=[callback])"
   ]
  },
  {
   "cell_type": "code",
   "execution_count": 50,
   "id": "1c5a5f1f-13f0-441b-857a-6809d007700e",
   "metadata": {},
   "outputs": [
    {
     "name": "stdout",
     "output_type": "stream",
     "text": [
      "Model: \"sequential_2\"\n",
      "_________________________________________________________________\n",
      " Layer (type)                Output Shape              Param #   \n",
      "=================================================================\n",
      " conv2d_4 (Conv2D)           (None, 26, 26, 32)        320       \n",
      "                                                                 \n",
      " max_pooling2d_2 (MaxPooling  (None, 13, 13, 32)       0         \n",
      " 2D)                                                             \n",
      "                                                                 \n",
      " conv2d_5 (Conv2D)           (None, 11, 11, 32)        9248      \n",
      "                                                                 \n",
      " max_pooling2d_3 (MaxPooling  (None, 5, 5, 32)         0         \n",
      " 2D)                                                             \n",
      "                                                                 \n",
      " flatten_2 (Flatten)         (None, 800)               0         \n",
      "                                                                 \n",
      " dense_4 (Dense)             (None, 128)               102528    \n",
      "                                                                 \n",
      " dense_5 (Dense)             (None, 10)                1290      \n",
      "                                                                 \n",
      "=================================================================\n",
      "Total params: 113,386\n",
      "Trainable params: 113,386\n",
      "Non-trainable params: 0\n",
      "_________________________________________________________________\n",
      "Epoch 1/2\n",
      "1875/1875 [==============================] - 16s 8ms/step - loss: 0.6140 - accuracy: 0.8185\n",
      "Epoch 2/2\n",
      "1875/1875 [==============================] - 15s 8ms/step - loss: 0.3542 - accuracy: 0.8695\n",
      "313/313 [==============================] - 1s 3ms/step - loss: 0.3663 - accuracy: 0.8677\n",
      "Test loss: 0.36633428931236267, Test accuracy: 86.76999807357788\n"
     ]
    }
   ],
   "source": [
    "# Model using Convolution Filters (CNN)\n",
    "model = tf.keras.models.Sequential([\n",
    "    tf.keras.layers.Conv2D(32, (3, 3), activation='relu', input_shape=(28, 28, 1)),\n",
    "    tf.keras.layers.MaxPooling2D(2, 2),\n",
    "    tf.keras.layers.Conv2D(32, (3, 3), activation='relu'),\n",
    "    tf.keras.layers.MaxPooling2D(2, 2),\n",
    "    tf.keras.layers.Flatten(),\n",
    "    tf.keras.layers.Dense(128, activation='relu'),\n",
    "    tf.keras.layers.Dense(10, activation='softmax')\n",
    "])\n",
    "\n",
    "model.compile(\n",
    "    optimizer='adam',\n",
    "    loss='sparse_categorical_crossentropy',\n",
    "    metrics=['accuracy'],\n",
    ")\n",
    "\n",
    "model.summary()\n",
    "model.fit(training_images, training_labels, epochs=2)\n",
    "test_loss, test_accuracy = model.evaluate(testing_images, testing_labels)\n",
    "print(f\"Test loss: {test_loss}, Test accuracy: {test_accuracy * 100}\")"
   ]
  },
  {
   "cell_type": "code",
   "execution_count": 68,
   "id": "ffb67338-73d6-48da-8c10-fa21e31331fd",
   "metadata": {},
   "outputs": [
    {
     "data": {
      "text/plain": [
       "[2, 3, 5, 15, 24, 41, 47, 64, 65, 76]"
      ]
     },
     "execution_count": 68,
     "metadata": {},
     "output_type": "execute_result"
    }
   ],
   "source": [
    "# FASHION_ITEM = 9 # Ankle Boot\n",
    "# FASHION_ITEM = 8 # Bag\n",
    "# FASHION_ITEM = 7 # Sneaker\n",
    "# FASHION_ITEM = 6 # Shirt\n",
    "# FASHION_ITEM = 5 # Sandal\n",
    "# FASHION_ITEM = 4 # Coat\n",
    "# FASHION_ITEM = 3 # Dress\n",
    "# FASHION_ITEM = 2 # Pullover\n",
    "FASHION_ITEM = 1 # Trouser\n",
    "# FASHION_ITEM = 0 # T-shirt/top\n",
    "indices = [i for i, val in zip(range(len(testing_labels)), testing_labels==FASHION_ITEM) if val]\n",
    "indices[:10]"
   ]
  },
  {
   "cell_type": "code",
   "execution_count": 69,
   "id": "c82c4dac-aa00-474c-a24f-782e43e7fff0",
   "metadata": {},
   "outputs": [
    {
     "data": {
      "text/plain": [
       "[<KerasTensor: shape=(None, 26, 26, 32) dtype=float32 (created by layer 'conv2d_4')>,\n",
       " <KerasTensor: shape=(None, 13, 13, 32) dtype=float32 (created by layer 'max_pooling2d_2')>,\n",
       " <KerasTensor: shape=(None, 11, 11, 32) dtype=float32 (created by layer 'conv2d_5')>,\n",
       " <KerasTensor: shape=(None, 5, 5, 32) dtype=float32 (created by layer 'max_pooling2d_3')>,\n",
       " <KerasTensor: shape=(None, 800) dtype=float32 (created by layer 'flatten_2')>,\n",
       " <KerasTensor: shape=(None, 128) dtype=float32 (created by layer 'dense_4')>,\n",
       " <KerasTensor: shape=(None, 10) dtype=float32 (created by layer 'dense_5')>]"
      ]
     },
     "execution_count": 69,
     "metadata": {},
     "output_type": "execute_result"
    }
   ],
   "source": [
    "import matplotlib.pyplot as plt\n",
    "from tensorflow.keras import models\n",
    "\n",
    "FIRST_IMAGE=indices[0]\n",
    "SECOND_IMAGE=indices[1]\n",
    "THIRD_IMAGE=indices[2]\n",
    "layer_outputs = [layer.output for layer in model.layers]\n",
    "layer_outputs"
   ]
  },
  {
   "cell_type": "code",
   "execution_count": 70,
   "id": "e7c4763e-7924-4e0d-b24a-25d5a7f1004c",
   "metadata": {},
   "outputs": [
    {
     "name": "stdout",
     "output_type": "stream",
     "text": [
      "1/1 [==============================] - 0s 68ms/step\n",
      "type(f): <class 'list'>\n",
      "len(f): 7\n",
      "type(f[0]): <class 'numpy.ndarray'>\n",
      "f[0].shape: (1, 26, 26, 32)\n",
      "f[1].shape: (1, 13, 13, 32)\n",
      "f[2].shape: (1, 11, 11, 32)\n",
      "f[3].shape: (1, 5, 5, 32)\n"
     ]
    }
   ],
   "source": [
    "activation_model = tf.keras.models.Model(inputs = model.input, outputs = layer_outputs)\n",
    "f = activation_model.predict(testing_images[FIRST_IMAGE].reshape(1, 28, 28, 1)) # Output of each layer for specified image\n",
    "print(f\"type(f): {type(f)}\") # List of\n",
    "print(f\"len(f): {len(f)}\") # Length 6, i.e. 6 layers\n",
    "print(f\"type(f[0]): {type(f[0])}\") #ndarray of shape specified in the 'layer_outputs' for first layer\n",
    "print(f\"f[0].shape: {f[0].shape}\") #ndarray of shape...\n",
    "print(f\"f[1].shape: {f[1].shape}\") #...\n",
    "print(f\"f[2].shape: {f[2].shape}\") #...\n",
    "print(f\"f[3].shape: {f[3].shape}\") #... working with the first four layers to see how convolution works"
   ]
  },
  {
   "cell_type": "code",
   "execution_count": 71,
   "id": "0236a467-7cd0-49f8-84e6-ef7ffcdb7e7f",
   "metadata": {},
   "outputs": [
    {
     "name": "stdout",
     "output_type": "stream",
     "text": [
      "1/1 [==============================] - 0s 17ms/step\n",
      "1/1 [==============================] - 0s 18ms/step\n",
      "1/1 [==============================] - 0s 17ms/step\n",
      "1/1 [==============================] - 0s 16ms/step\n",
      "1/1 [==============================] - 0s 17ms/step\n",
      "1/1 [==============================] - 0s 18ms/step\n",
      "1/1 [==============================] - 0s 19ms/step\n",
      "1/1 [==============================] - 0s 18ms/step\n",
      "1/1 [==============================] - 0s 19ms/step\n",
      "1/1 [==============================] - 0s 18ms/step\n",
      "1/1 [==============================] - 0s 17ms/step\n",
      "1/1 [==============================] - 0s 19ms/step\n"
     ]
    },
    {
     "data": {
      "image/png": "[encoded data removed]",
      "text/plain": [
       "<Figure size 640x480 with 12 Axes>"
      ]
     },
     "metadata": {},
     "output_type": "display_data"
    }
   ],
   "source": [
    "# VISUALIZING CONVOLUTIONS\n",
    "CONVOLUTION_NUMBER = 6 # 6th filter out of the 32 filters will be visualized\n",
    "f, axarr = plt.subplots(3,4)\n",
    "for i in range(0, 4): # Iterate over the output layers\n",
    "    f1 = activation_model.predict(testing_images[FIRST_IMAGE].reshape(1, 28, 28, 1))[i] # Output of the ith layer\n",
    "    axarr[0, i].imshow(f1[0, :, :, CONVOLUTION_NUMBER], cmap='inferno')\n",
    "    f2 = activation_model.predict(testing_images[SECOND_IMAGE].reshape(1, 28, 28, 1))[i]\n",
    "    axarr[1, i].imshow(f2[0, :, :, CONVOLUTION_NUMBER], cmap='inferno')\n",
    "    f3 = activation_model.predict(testing_images[THIRD_IMAGE].reshape(1, 28, 28, 1))[i]\n",
    "    axarr[2, i].imshow(f3[0, :, :, CONVOLUTION_NUMBER], cmap='inferno')"
   ]
  }
 ],
 "metadata": {
  "kernelspec": {
   "display_name": "Python 3 (ipykernel)",
   "language": "python",
   "name": "python3"
  },
  "language_info": {
   "codemirror_mode": {
    "name": "ipython",
    "version": 3
   },
   "file_extension": ".py",
   "mimetype": "text/x-python",
   "name": "python",
   "nbconvert_exporter": "python",
   "pygments_lexer": "ipython3",
   "version": "3.10.10"
  }
 },
 "nbformat": 4,
 "nbformat_minor": 5
}
